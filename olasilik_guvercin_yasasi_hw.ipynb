{
  "nbformat": 4,
  "nbformat_minor": 0,
  "metadata": {
    "colab": {
      "provenance": [],
      "authorship_tag": "ABX9TyN7BjS+cSDhUa2rB5/bBde6",
      "include_colab_link": true
    },
    "kernelspec": {
      "name": "python3",
      "display_name": "Python 3"
    },
    "language_info": {
      "name": "python"
    }
  },
  "cells": [
    {
      "cell_type": "markdown",
      "metadata": {
        "id": "view-in-github",
        "colab_type": "text"
      },
      "source": [
        "<a href=\"https://colab.research.google.com/github/adamsvs/Empty/blob/main/olasilik_guvercin_yasasi_hw.ipynb\" target=\"_parent\"><img src=\"https://colab.research.google.com/assets/colab-badge.svg\" alt=\"Open In Colab\"/></a>"
      ]
    },
    {
      "cell_type": "code",
      "execution_count": null,
      "metadata": {
        "colab": {
          "base_uri": "https://localhost:8080/"
        },
        "id": "EbaMQvwl20MI",
        "outputId": "cd30fce2-6be4-493d-cf07-500891edd104"
      },
      "outputs": [
        {
          "output_type": "stream",
          "name": "stdout",
          "text": [
            "En az bir kez 6 gelme olasılığı: 0.6651020233196159\n"
          ]
        }
      ],
      "source": [
        "def en_az_bir_kez_alti_gelme_olasiligi(zar_atis_sayisi):\n",
        "    olasilik_alti_gelmemesi = (5/6) ** zar_atis_sayisi\n",
        "    olasilik_en_az_bir_kez_alti_gelme = 1 - olasilik_alti_gelmemesi\n",
        "    return olasilik_en_az_bir_kez_alti_gelme\n",
        "\n",
        "zar_atis_sayisi = 6  # Zarın kaç kez atılacağı\n",
        "olasilik = en_az_bir_kez_alti_gelme_olasiligi(zar_atis_sayisi)\n",
        "print(\"En az bir kez 6 gelme olasılığı:\", olasilik)"
      ]
    }
  ]
}