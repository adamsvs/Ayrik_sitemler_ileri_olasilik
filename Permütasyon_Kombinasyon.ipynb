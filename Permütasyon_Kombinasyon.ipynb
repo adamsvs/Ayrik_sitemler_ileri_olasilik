{
  "nbformat": 4,
  "nbformat_minor": 0,
  "metadata": {
    "colab": {
      "provenance": [],
      "authorship_tag": "ABX9TyOsfqkozrfbDmweaPtp8WQo",
      "include_colab_link": true
    },
    "kernelspec": {
      "name": "python3",
      "display_name": "Python 3"
    },
    "language_info": {
      "name": "python"
    }
  },
  "cells": [
    {
      "cell_type": "markdown",
      "metadata": {
        "id": "view-in-github",
        "colab_type": "text"
      },
      "source": [
        "<a href=\"https://colab.research.google.com/github/adamsvs/Ayrik_sitemler_ileri_olasilik/blob/main/Perm%C3%BCtasyon_Kombinasyon.ipynb\" target=\"_parent\"><img src=\"https://colab.research.google.com/assets/colab-badge.svg\" alt=\"Open In Colab\"/></a>"
      ]
    },
    {
      "cell_type": "code",
      "source": [
        "from math import factorial\n",
        "\n",
        "def permutation(n, r):\n",
        "    return factorial(n) // factorial(n - r)\n",
        "def combination(n, r):\n",
        "    return factorial(n) // (factorial(n - r) * factorial(r))"
      ],
      "metadata": {
        "id": "fCQQbasB5tqw"
      },
      "execution_count": null,
      "outputs": []
    },
    {
      "cell_type": "markdown",
      "source": [
        "Permütasyon Sorusu:"
      ],
      "metadata": {
        "id": "GunsLpOK5eGn"
      }
    },
    {
      "cell_type": "markdown",
      "source": [
        "![resim_2023-04-17_000754284.png](data:image/png;base64,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)\n",
        "\n",
        "\n",
        "A şehrinden B şehrine 5 farklı, B şehrinden C şehrine 7 farklı yol vardır. A şehrinden C şehrine, B şehrine uğramak şartıyla kaç farklı şekilde gidilebilir?"
      ],
      "metadata": {
        "id": "-HfnPyMA5MC2"
      }
    },
    {
      "cell_type": "markdown",
      "source": [
        "A şehrinden B şehrine 5, B şehrinden C şehrine 7 farklı yol olduğu için;\n",
        "5 * 7 = 35 farklı şekilde gidilebilir."
      ],
      "metadata": {
        "id": "RLbtiomJ5iqR"
      }
    },
    {
      "cell_type": "code",
      "source": [
        "A_B = permutation(5,1)\n",
        "B_C = permutation(7,1)\n",
        "result = 7 * 5\n",
        "\n",
        "print(\"A şehrinden C şehrine, B şehrine uğramak şartıyla kaç farklı şekilde gidilebilir:\", result)"
      ],
      "metadata": {
        "colab": {
          "base_uri": "https://localhost:8080/"
        },
        "id": "eBAb9yuU6BCC",
        "outputId": "b8b3f02d-9c42-4672-c9da-813bf1d44c70"
      },
      "execution_count": null,
      "outputs": [
        {
          "output_type": "stream",
          "name": "stdout",
          "text": [
            "A şehrinden C şehrine, B şehrine uğramak şartıyla kaç farklı şekilde gidilebilir: 35\n"
          ]
        }
      ]
    },
    {
      "cell_type": "markdown",
      "source": [
        "Kombinasyon Sorusu:"
      ],
      "metadata": {
        "id": "34EExjnh7uif"
      }
    },
    {
      "cell_type": "markdown",
      "source": [
        "8 kız ve 6 erkek öğrenci arasından 3 ü kız, 3 ü erkek olmak üzere 6 kişilik kaç farklı grup seçilir?"
      ],
      "metadata": {
        "id": "f439I0t87zbj"
      }
    },
    {
      "cell_type": "markdown",
      "source": [
        "8 kız öğrenciden 3 tanesi C(8,3) şeklinde seçilir.\n",
        "6 erkek öğrenciden 3 tanesi C(6,3) şeklinde seçilir.\n",
        "C(8,3) * C(6,3) = 56 * 20 = 1120 bulunur."
      ],
      "metadata": {
        "id": "Me2mnTYO8Dbs"
      }
    },
    {
      "cell_type": "code",
      "source": [
        "kız_secim = combination(8,3)\n",
        "erkek_secim = combination(6,3)\n",
        "result = kız_secim * erkek_secim\n",
        "\n",
        "print(\"8 kız ve 6 erkek öğrenci arasından 3 ü kız, 3 ü erkek olmak üzere 6 kişilik kaç farklı grup seçilir:\", result)"
      ],
      "metadata": {
        "colab": {
          "base_uri": "https://localhost:8080/"
        },
        "id": "3q9wu2Bg851m",
        "outputId": "e00e1de5-c8ba-4c00-933f-ecb958cc9c2b"
      },
      "execution_count": null,
      "outputs": [
        {
          "output_type": "stream",
          "name": "stdout",
          "text": [
            "8 kız ve 6 erkek öğrenci arasından 3 ü kız, 3 ü erkek olmak üzere 6 kişilik kaç farklı grup seçilir: 1120\n"
          ]
        }
      ]
    }
  ]
}