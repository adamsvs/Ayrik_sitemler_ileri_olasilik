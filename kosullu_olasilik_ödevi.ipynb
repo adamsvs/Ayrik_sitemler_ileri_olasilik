{
  "nbformat": 4,
  "nbformat_minor": 0,
  "metadata": {
    "colab": {
      "provenance": [],
      "authorship_tag": "ABX9TyNvafNA4sLh0plP3oSBiy1a",
      "include_colab_link": true
    },
    "kernelspec": {
      "name": "python3",
      "display_name": "Python 3"
    },
    "language_info": {
      "name": "python"
    }
  },
  "cells": [
    {
      "cell_type": "markdown",
      "metadata": {
        "id": "view-in-github",
        "colab_type": "text"
      },
      "source": [
        "<a href=\"https://colab.research.google.com/github/adamsvs/Ayrik_sitemler_ileri_olasilik/blob/main/kosullu_olasilik_%C3%B6devi.ipynb\" target=\"_parent\"><img src=\"https://colab.research.google.com/assets/colab-badge.svg\" alt=\"Open In Colab\"/></a>"
      ]
    },
    {
      "cell_type": "code",
      "execution_count": 1,
      "metadata": {
        "colab": {
          "base_uri": "https://localhost:8080/"
        },
        "id": "SMfQb8H1gCUJ",
        "outputId": "b0b533cf-75f4-493e-cea1-a7b02ee59bfb"
      },
      "outputs": [
        {
          "output_type": "stream",
          "name": "stdout",
          "text": [
            "a) Matematikten başarısız olduğu bilindiğinde, fizikten de başarısız olma olasılığı: 0.5555555555555556\n",
            "b) Fizikten başarısız olduğu bilindiğinde, matematikten de başarısız olma olasılığı: 0.7142857142857143\n"
          ]
        }
      ],
      "source": [
        "# Verilen olasılıklar\n",
        "p_fizik_basarisiz = 0.45\n",
        "p_matematik_basarisiz = 0.35\n",
        "p_fizik_ve_matematik_basarisiz = 0.25\n",
        "\n",
        "# a) Fizikten başarısız olduğu biliniyorsa, matematikten de başarısız olma olasılığını hesaplayalım\n",
        "p_matematik_basarisiz_given_fizik_basarisiz = p_fizik_ve_matematik_basarisiz / p_fizik_basarisiz\n",
        "\n",
        "# b) Matematikten başarısız olduğu biliniyorsa, fizikten de başarısız olma olasılığını hesaplayalım\n",
        "p_fizik_basarisiz_given_matematik_basarisiz = p_fizik_ve_matematik_basarisiz / p_matematik_basarisiz\n",
        "\n",
        "print(\"a) Matematikten başarısız olduğu bilindiğinde, fizikten de başarısız olma olasılığı:\", p_matematik_basarisiz_given_fizik_basarisiz)\n",
        "print(\"b) Fizikten başarısız olduğu bilindiğinde, matematikten de başarısız olma olasılığı:\", p_fizik_basarisiz_given_matematik_basarisiz)"
      ]
    }
  ]
}